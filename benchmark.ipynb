{
 "cells": [
  {
   "cell_type": "code",
   "execution_count": 1,
   "metadata": {},
   "outputs": [],
   "source": [
    "from app.algorithms.interface import BenchmarkAnalyzer, ALGORITHMS, DISTRIBUTIONS\n",
    "\n"
   ]
  },
  {
   "cell_type": "code",
   "execution_count": 2,
   "metadata": {},
   "outputs": [],
   "source": [
    "benchmark_analyzer = BenchmarkAnalyzer(distribution=\"normal\", algorithm=\"ideal point method\", dimensionality=50, cardinality=100)"
   ]
  },
  {
   "cell_type": "code",
   "execution_count": 3,
   "metadata": {},
   "outputs": [
    {
     "data": {
      "text/plain": [
       "{'algorithm': 'ideal point method',\n",
       " 'distribution': 'normal',\n",
       " 'dimensionality': 50,\n",
       " 'cardinality': 100,\n",
       " 'mean_time': {'mean': 0.04423240400501527, 'std': 0.01100404311980789},\n",
       " 'comparison_point_counter': {'mean': 5100.0, 'std': 0.0},\n",
       " 'comparison_coordinates_counter': {'mean': 11167.0, 'std': 0.0}}"
      ]
     },
     "execution_count": 3,
     "metadata": {},
     "output_type": "execute_result"
    }
   ],
   "source": [
    "result = benchmark_analyzer.run_algorithm(50)\n",
    "benchmark_analyzer.parse_result(result)"
   ]
  }
 ],
 "metadata": {
  "kernelspec": {
   "display_name": "TFenv",
   "language": "python",
   "name": "python3"
  },
  "language_info": {
   "codemirror_mode": {
    "name": "ipython",
    "version": 3
   },
   "file_extension": ".py",
   "mimetype": "text/x-python",
   "name": "python",
   "nbconvert_exporter": "python",
   "pygments_lexer": "ipython3",
   "version": "3.11.5"
  }
 },
 "nbformat": 4,
 "nbformat_minor": 2
}

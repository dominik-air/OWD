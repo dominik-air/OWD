{
 "cells": [
  {
   "cell_type": "code",
   "execution_count": 11,
   "metadata": {},
   "outputs": [],
   "source": [
    "from numpy import mean, std, array\n",
    "from numpy.random import normal, uniform, exponential, poisson\n",
    "from app.algorithms.point import Point\n",
    "from app.algorithms.interface import ALGORITHMS\n",
    "import time\n",
    "from typing import Callable\n",
    "\n",
    "DISTRIBUTIONS = {\n",
    "    \"uniform\": lambda dimensionality, cardinality: [Point(uniform(0,2, size=(dimensionality,))) for _ in range(cardinality)],\n",
    "    \"normal\": lambda dimensionality, cardinality: [Point(normal(1,1, size=(dimensionality,))) for _ in range(cardinality)],\n",
    "    \"exponential\": lambda dimensionality, cardinality: [Point(exponential(1, size=(dimensionality,))) for _ in range(cardinality)],\n",
    "    \"poisson\": lambda dimensionality, cardinality: [Point(poisson(2, size=(dimensionality,))) for _ in range(cardinality)]\n",
    "}\n",
    "\n",
    "\n",
    "\n",
    "def run_algorithm(\n",
    "        distribution: str, \n",
    "        datasets: list[list[Point]], \n",
    "        dimensionality: int,\n",
    "        repeats: int, \n",
    "        algorithm: str, \n",
    "        cardinality: int,\n",
    "        sorted: bool = False\n",
    "        ) -> dict[str, any]:\n",
    "    times = []\n",
    "    comparison_point_counter = []\n",
    "    comparison_coordinates_counter = []\n",
    "    for dataset in datasets:\n",
    "        Point.reset_counter()\n",
    "        start = time.perf_counter()\n",
    "\n",
    "        ALGORITHMS[algorithm](dataset)\n",
    "\n",
    "        times.append(time.perf_counter() - start)\n",
    "        comparison_point_counter.append(Point.get_global_point_counter())\n",
    "        comparison_coordinates_counter.append(Point.get_global_coordinate_counter())\n",
    "\n",
    "    return {\n",
    "        \"distribution\": distribution,\n",
    "        \"algorithm\": algorithm,\n",
    "        \"dimensionality\": dimensionality,\n",
    "        \"cardinality\": cardinality,\n",
    "        \"sorted\": sorted,\n",
    "        \"times\": mean(times),\n",
    "        \"comparison_point_counter\": mean(comparison_point_counter, dtype=int),\n",
    "        \"comparison_coordinates_counter\": mean(comparison_coordinates_counter, dtype=int)\n",
    "    }"
   ]
  },
  {
   "cell_type": "code",
   "execution_count": 15,
   "metadata": {},
   "outputs": [],
   "source": [
    "import pandas as pd\n",
    "from app.algorithms.interface import ALGORITHMS\n",
    "df = pd.DataFrame({\n",
    "    \"distribution\": [],\n",
    "    \"algorithm\": [],\n",
    "    \"dimensionality\": [],\n",
    "    \"cardinality\": [],\n",
    "    \"times\": [],\n",
    "    \"comparison_point_counter\": [],\n",
    "    \"comparison_coordinates_counter\": []\n",
    "})\n",
    "\n",
    "dicts = []\n",
    "\n",
    "for distribution in DISTRIBUTIONS:\n",
    "    for repeats, cardinality in [(1,100), (1, 1000)]:\n",
    "        for dimensionality in [2, 3, 4, 5, 10]:\n",
    "            for is_sorted in [False, True]:\n",
    "                datasets = [DISTRIBUTIONS[distribution](dimensionality, cardinality) for _ in range(repeats)]\n",
    "                for algorithm in ALGORITHMS:\n",
    "                    if is_sorted: datasets = [sorted(dataset, key=lambda point: point.x[0]) for dataset in datasets]\n",
    "                    dicts += [run_algorithm(distribution, datasets, dimensionality, repeats, algorithm, cardinality, is_sorted)]\n"
   ]
  },
  {
   "cell_type": "code",
   "execution_count": 22,
   "metadata": {},
   "outputs": [],
   "source": [
    "# make dataframe from list of dicts\n",
    "df = pd.DataFrame(dicts)\n",
    "def parse(dict) -> None:\n",
    "    dict[\"parsed\"] = f\"t:{format(dict['times'], '.4f')}\\n pc:{dict['comparison_point_counter']}\\n cc:{dict['comparison_coordinates_counter']}\"\n",
    "\n",
    "for dc in dicts:\n",
    "    parse(dc)\n",
    "df_ = pd.DataFrame(dicts)\n",
    "df_.to_csv(\"benchmark__.csv\", index=False)\n"
   ]
  }
 ],
 "metadata": {
  "kernelspec": {
   "display_name": "TFenv",
   "language": "python",
   "name": "python3"
  },
  "language_info": {
   "codemirror_mode": {
    "name": "ipython",
    "version": 3
   },
   "file_extension": ".py",
   "mimetype": "text/x-python",
   "name": "python",
   "nbconvert_exporter": "python",
   "pygments_lexer": "ipython3",
   "version": "3.10.12"
  }
 },
 "nbformat": 4,
 "nbformat_minor": 2
}
